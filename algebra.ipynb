{
 "cells": [
  {
   "cell_type": "code",
   "execution_count": 2,
   "metadata": {},
   "outputs": [
    {
     "data": {
      "text/plain": [
       "\"programminglanguages.csv\""
      ]
     },
     "execution_count": 2,
     "metadata": {},
     "output_type": "execute_result"
    }
   ],
   "source": [
    "P = download(\"https://raw.githubusercontent.com/nassarhuda/easy_data/master/programming_languages.csv\",\n",
    "    \"programminglanguages.csv\")"
   ]
  },
  {
   "cell_type": "code",
   "execution_count": 3,
   "metadata": {},
   "outputs": [],
   "source": [
    "using CSV"
   ]
  },
  {
   "cell_type": "code",
   "execution_count": 4,
   "metadata": {},
   "outputs": [],
   "source": [
    "using DelimitedFiles"
   ]
  },
  {
   "cell_type": "code",
   "execution_count": 5,
   "metadata": {},
   "outputs": [],
   "source": [
    "P, h = readdlm(\"programminglanguages.csv\", ',', header = true);"
   ]
  },
  {
   "cell_type": "code",
   "execution_count": 6,
   "metadata": {},
   "outputs": [
    {
     "data": {
      "text/plain": [
       "1×2 Array{AbstractString,2}:\n",
       " \"year\"  \"language\""
      ]
     },
     "execution_count": 6,
     "metadata": {},
     "output_type": "execute_result"
    }
   ],
   "source": [
    "h"
   ]
  },
  {
   "cell_type": "code",
   "execution_count": 7,
   "metadata": {},
   "outputs": [
    {
     "data": {
      "text/html": [
       "<table class=\"data-frame\"><thead><tr><th></th><th>year</th><th>language</th></tr><tr><th></th><th>Int64</th><th>String</th></tr></thead><tbody><p>73 rows × 2 columns</p><tr><th>1</th><td>1951</td><td>Regional Assembly Language</td></tr><tr><th>2</th><td>1952</td><td>Autocode</td></tr><tr><th>3</th><td>1954</td><td>IPL</td></tr><tr><th>4</th><td>1955</td><td>FLOW-MATIC</td></tr><tr><th>5</th><td>1957</td><td>FORTRAN</td></tr><tr><th>6</th><td>1957</td><td>COMTRAN</td></tr><tr><th>7</th><td>1958</td><td>LISP</td></tr><tr><th>8</th><td>1958</td><td>ALGOL 58</td></tr><tr><th>9</th><td>1959</td><td>FACT</td></tr><tr><th>10</th><td>1959</td><td>COBOL</td></tr><tr><th>11</th><td>1959</td><td>RPG</td></tr><tr><th>12</th><td>1962</td><td>APL</td></tr><tr><th>13</th><td>1962</td><td>Simula</td></tr><tr><th>14</th><td>1962</td><td>SNOBOL</td></tr><tr><th>15</th><td>1963</td><td>CPL</td></tr><tr><th>16</th><td>1964</td><td>Speakeasy</td></tr><tr><th>17</th><td>1964</td><td>BASIC</td></tr><tr><th>18</th><td>1964</td><td>PL/I</td></tr><tr><th>19</th><td>1966</td><td>JOSS</td></tr><tr><th>20</th><td>1967</td><td>BCPL</td></tr><tr><th>21</th><td>1968</td><td>Logo</td></tr><tr><th>22</th><td>1969</td><td>B</td></tr><tr><th>23</th><td>1970</td><td>Pascal</td></tr><tr><th>24</th><td>1970</td><td>Forth</td></tr><tr><th>25</th><td>1972</td><td>C</td></tr><tr><th>26</th><td>1972</td><td>Smalltalk</td></tr><tr><th>27</th><td>1972</td><td>Prolog</td></tr><tr><th>28</th><td>1973</td><td>ML</td></tr><tr><th>29</th><td>1975</td><td>Scheme</td></tr><tr><th>30</th><td>1978</td><td>SQL </td></tr><tr><th>&vellip;</th><td>&vellip;</td><td>&vellip;</td></tr></tbody></table>"
      ],
      "text/latex": [
       "\\begin{tabular}{r|cc}\n",
       "\t& year & language\\\\\n",
       "\t\\hline\n",
       "\t& Int64 & String\\\\\n",
       "\t\\hline\n",
       "\t1 & 1951 & Regional Assembly Language \\\\\n",
       "\t2 & 1952 & Autocode \\\\\n",
       "\t3 & 1954 & IPL \\\\\n",
       "\t4 & 1955 & FLOW-MATIC \\\\\n",
       "\t5 & 1957 & FORTRAN \\\\\n",
       "\t6 & 1957 & COMTRAN \\\\\n",
       "\t7 & 1958 & LISP \\\\\n",
       "\t8 & 1958 & ALGOL 58 \\\\\n",
       "\t9 & 1959 & FACT \\\\\n",
       "\t10 & 1959 & COBOL \\\\\n",
       "\t11 & 1959 & RPG \\\\\n",
       "\t12 & 1962 & APL \\\\\n",
       "\t13 & 1962 & Simula \\\\\n",
       "\t14 & 1962 & SNOBOL \\\\\n",
       "\t15 & 1963 & CPL \\\\\n",
       "\t16 & 1964 & Speakeasy \\\\\n",
       "\t17 & 1964 & BASIC \\\\\n",
       "\t18 & 1964 & PL/I \\\\\n",
       "\t19 & 1966 & JOSS \\\\\n",
       "\t20 & 1967 & BCPL \\\\\n",
       "\t21 & 1968 & Logo \\\\\n",
       "\t22 & 1969 & B \\\\\n",
       "\t23 & 1970 & Pascal \\\\\n",
       "\t24 & 1970 & Forth \\\\\n",
       "\t25 & 1972 & C \\\\\n",
       "\t26 & 1972 & Smalltalk \\\\\n",
       "\t27 & 1972 & Prolog \\\\\n",
       "\t28 & 1973 & ML \\\\\n",
       "\t29 & 1975 & Scheme \\\\\n",
       "\t30 & 1978 & SQL  \\\\\n",
       "\t$\\dots$ & $\\dots$ & $\\dots$ \\\\\n",
       "\\end{tabular}\n"
      ],
      "text/plain": [
       "73×2 DataFrame\n",
       "│ Row │ year  │ language                   │\n",
       "│     │ \u001b[90mInt64\u001b[39m │ \u001b[90mString\u001b[39m                     │\n",
       "├─────┼───────┼────────────────────────────┤\n",
       "│ 1   │ 1951  │ Regional Assembly Language │\n",
       "│ 2   │ 1952  │ Autocode                   │\n",
       "│ 3   │ 1954  │ IPL                        │\n",
       "│ 4   │ 1955  │ FLOW-MATIC                 │\n",
       "│ 5   │ 1957  │ FORTRAN                    │\n",
       "│ 6   │ 1957  │ COMTRAN                    │\n",
       "│ 7   │ 1958  │ LISP                       │\n",
       "│ 8   │ 1958  │ ALGOL 58                   │\n",
       "│ 9   │ 1959  │ FACT                       │\n",
       "│ 10  │ 1959  │ COBOL                      │\n",
       "⋮\n",
       "│ 63  │ 2005  │ F#                         │\n",
       "│ 64  │ 2006  │ PowerShell                 │\n",
       "│ 65  │ 2007  │ Clojure                    │\n",
       "│ 66  │ 2009  │ Go                         │\n",
       "│ 67  │ 2010  │ Rust                       │\n",
       "│ 68  │ 2011  │ Dart                       │\n",
       "│ 69  │ 2011  │ Kotlin                     │\n",
       "│ 70  │ 2011  │ Red                        │\n",
       "│ 71  │ 2011  │ Elixir                     │\n",
       "│ 72  │ 2012  │ Julia                      │\n",
       "│ 73  │ 2014  │ Swift                      │"
      ]
     },
     "execution_count": 7,
     "metadata": {},
     "output_type": "execute_result"
    }
   ],
   "source": [
    "df = CSV.read(\"programminglanguages.csv\")"
   ]
  },
  {
   "cell_type": "code",
   "execution_count": 22,
   "metadata": {},
   "outputs": [],
   "source": [
    "df = CSV.read(\"programminglanguages.csv\");"
   ]
  },
  {
   "cell_type": "code",
   "execution_count": 23,
   "metadata": {},
   "outputs": [
    {
     "data": {
      "text/plain": [
       "DataFrames.DataFrame"
      ]
     },
     "execution_count": 23,
     "metadata": {},
     "output_type": "execute_result"
    }
   ],
   "source": [
    "typeof(df)"
   ]
  },
  {
   "cell_type": "code",
   "execution_count": 24,
   "metadata": {},
   "outputs": [
    {
     "data": {
      "text/plain": [
       "73-element Array{Int64,1}:\n",
       " 1951\n",
       " 1952\n",
       " 1954\n",
       " 1955\n",
       " 1957\n",
       " 1957\n",
       " 1958\n",
       " 1958\n",
       " 1959\n",
       " 1959\n",
       " 1959\n",
       " 1962\n",
       " 1962\n",
       "    ⋮\n",
       " 2003\n",
       " 2005\n",
       " 2006\n",
       " 2007\n",
       " 2009\n",
       " 2010\n",
       " 2011\n",
       " 2011\n",
       " 2011\n",
       " 2011\n",
       " 2012\n",
       " 2014"
      ]
     },
     "execution_count": 24,
     "metadata": {},
     "output_type": "execute_result"
    }
   ],
   "source": [
    "df.year"
   ]
  },
  {
   "cell_type": "code",
   "execution_count": 26,
   "metadata": {},
   "outputs": [
    {
     "data": {
      "text/plain": [
       "2-element Array{String,1}:\n",
       " \"year\"\n",
       " \"language\""
      ]
     },
     "execution_count": 26,
     "metadata": {},
     "output_type": "execute_result"
    }
   ],
   "source": [
    "names(df)"
   ]
  },
  {
   "cell_type": "code",
   "execution_count": 8,
   "metadata": {},
   "outputs": [
    {
     "data": {
      "text/html": [
       "<table class=\"data-frame\"><thead><tr><th></th><th>variable</th><th>mean</th><th>min</th><th>median</th><th>max</th><th>nunique</th><th>nmissing</th><th>eltype</th></tr><tr><th></th><th>Symbol</th><th>Union…</th><th>Any</th><th>Union…</th><th>Any</th><th>Union…</th><th>Nothing</th><th>DataType</th></tr></thead><tbody><p>2 rows × 8 columns</p><tr><th>1</th><td>year</td><td>1982.99</td><td>1951</td><td>1986.0</td><td>2014</td><td></td><td></td><td>Int64</td></tr><tr><th>2</th><td>language</td><td></td><td>ALGOL 58</td><td></td><td>dBase III</td><td>73</td><td></td><td>String</td></tr></tbody></table>"
      ],
      "text/latex": [
       "\\begin{tabular}{r|cccccccc}\n",
       "\t& variable & mean & min & median & max & nunique & nmissing & eltype\\\\\n",
       "\t\\hline\n",
       "\t& Symbol & Union… & Any & Union… & Any & Union… & Nothing & DataType\\\\\n",
       "\t\\hline\n",
       "\t1 & year & 1982.99 & 1951 & 1986.0 & 2014 &  &  & Int64 \\\\\n",
       "\t2 & language &  & ALGOL 58 &  & dBase III & 73 &  & String \\\\\n",
       "\\end{tabular}\n"
      ],
      "text/plain": [
       "2×8 DataFrame. Omitted printing of 2 columns\n",
       "│ Row │ variable │ mean    │ min      │ median │ max       │ nunique │\n",
       "│     │ \u001b[90mSymbol\u001b[39m   │ \u001b[90mUnion…\u001b[39m  │ \u001b[90mAny\u001b[39m      │ \u001b[90mUnion…\u001b[39m │ \u001b[90mAny\u001b[39m       │ \u001b[90mUnion…\u001b[39m  │\n",
       "├─────┼──────────┼─────────┼──────────┼────────┼───────────┼─────────┤\n",
       "│ 1   │ year     │ 1982.99 │ 1951     │ 1986.0 │ 2014      │         │\n",
       "│ 2   │ language │         │ ALGOL 58 │        │ dBase III │ 73      │"
      ]
     },
     "execution_count": 8,
     "metadata": {},
     "output_type": "execute_result"
    }
   ],
   "source": [
    "using DataFrames\n",
    "describe(df)"
   ]
  },
  {
   "cell_type": "code",
   "execution_count": 30,
   "metadata": {},
   "outputs": [
    {
     "ename": "LoadError",
     "evalue": "ArgumentError: Package XLSX not found in current path:\n- Run `import Pkg; Pkg.add(\"XLSX\")` to install the XLSX package.\n",
     "output_type": "error",
     "traceback": [
      "ArgumentError: Package XLSX not found in current path:\n- Run `import Pkg; Pkg.add(\"XLSX\")` to install the XLSX package.\n",
      "",
      "Stacktrace:",
      " [1] require(::Module, ::Symbol) at .\\loading.jl:893",
      " [2] include_string(::Function, ::Module, ::String, ::String) at .\\loading.jl:1091",
      " [3] execute_code(::String, ::String) at C:\\Users\\SHIVAM CHOUDHARY\\.julia\\packages\\IJulia\\rWZ9e\\src\\execute_request.jl:27",
      " [4] execute_request(::ZMQ.Socket, ::IJulia.Msg) at C:\\Users\\SHIVAM CHOUDHARY\\.julia\\packages\\IJulia\\rWZ9e\\src\\execute_request.jl:86",
      " [5] #invokelatest#1 at .\\essentials.jl:710 [inlined]",
      " [6] invokelatest at .\\essentials.jl:709 [inlined]",
      " [7] eventloop(::ZMQ.Socket) at C:\\Users\\SHIVAM CHOUDHARY\\.julia\\packages\\IJulia\\rWZ9e\\src\\eventloop.jl:8",
      " [8] (::IJulia.var\"#15#18\")() at .\\task.jl:356"
     ]
    }
   ],
   "source": [
    "using XLSX\n",
    "xlxs_df = XLSX.readdata(\"zillow_data_download_april2020.xlsx\")"
   ]
  },
  {
   "cell_type": "code",
   "execution_count": 32,
   "metadata": {},
   "outputs": [
    {
     "data": {
      "text/html": [
       "<table class=\"data-frame\"><thead><tr><th></th><th>year</th><th>language</th></tr><tr><th></th><th>Int64</th><th>String</th></tr></thead><tbody><p>73 rows × 2 columns</p><tr><th>1</th><td>1951</td><td>Regional Assembly Language</td></tr><tr><th>2</th><td>1952</td><td>Autocode</td></tr><tr><th>3</th><td>1954</td><td>IPL</td></tr><tr><th>4</th><td>1955</td><td>FLOW-MATIC</td></tr><tr><th>5</th><td>1957</td><td>FORTRAN</td></tr><tr><th>6</th><td>1957</td><td>COMTRAN</td></tr><tr><th>7</th><td>1958</td><td>LISP</td></tr><tr><th>8</th><td>1958</td><td>ALGOL 58</td></tr><tr><th>9</th><td>1959</td><td>FACT</td></tr><tr><th>10</th><td>1959</td><td>COBOL</td></tr><tr><th>11</th><td>1959</td><td>RPG</td></tr><tr><th>12</th><td>1962</td><td>APL</td></tr><tr><th>13</th><td>1962</td><td>Simula</td></tr><tr><th>14</th><td>1962</td><td>SNOBOL</td></tr><tr><th>15</th><td>1963</td><td>CPL</td></tr><tr><th>16</th><td>1964</td><td>Speakeasy</td></tr><tr><th>17</th><td>1964</td><td>BASIC</td></tr><tr><th>18</th><td>1964</td><td>PL/I</td></tr><tr><th>19</th><td>1966</td><td>JOSS</td></tr><tr><th>20</th><td>1967</td><td>BCPL</td></tr><tr><th>21</th><td>1968</td><td>Logo</td></tr><tr><th>22</th><td>1969</td><td>B</td></tr><tr><th>23</th><td>1970</td><td>Pascal</td></tr><tr><th>24</th><td>1970</td><td>Forth</td></tr><tr><th>25</th><td>1972</td><td>C</td></tr><tr><th>26</th><td>1972</td><td>Smalltalk</td></tr><tr><th>27</th><td>1972</td><td>Prolog</td></tr><tr><th>28</th><td>1973</td><td>ML</td></tr><tr><th>29</th><td>1975</td><td>Scheme</td></tr><tr><th>30</th><td>1978</td><td>SQL </td></tr><tr><th>&vellip;</th><td>&vellip;</td><td>&vellip;</td></tr></tbody></table>"
      ],
      "text/latex": [
       "\\begin{tabular}{r|cc}\n",
       "\t& year & language\\\\\n",
       "\t\\hline\n",
       "\t& Int64 & String\\\\\n",
       "\t\\hline\n",
       "\t1 & 1951 & Regional Assembly Language \\\\\n",
       "\t2 & 1952 & Autocode \\\\\n",
       "\t3 & 1954 & IPL \\\\\n",
       "\t4 & 1955 & FLOW-MATIC \\\\\n",
       "\t5 & 1957 & FORTRAN \\\\\n",
       "\t6 & 1957 & COMTRAN \\\\\n",
       "\t7 & 1958 & LISP \\\\\n",
       "\t8 & 1958 & ALGOL 58 \\\\\n",
       "\t9 & 1959 & FACT \\\\\n",
       "\t10 & 1959 & COBOL \\\\\n",
       "\t11 & 1959 & RPG \\\\\n",
       "\t12 & 1962 & APL \\\\\n",
       "\t13 & 1962 & Simula \\\\\n",
       "\t14 & 1962 & SNOBOL \\\\\n",
       "\t15 & 1963 & CPL \\\\\n",
       "\t16 & 1964 & Speakeasy \\\\\n",
       "\t17 & 1964 & BASIC \\\\\n",
       "\t18 & 1964 & PL/I \\\\\n",
       "\t19 & 1966 & JOSS \\\\\n",
       "\t20 & 1967 & BCPL \\\\\n",
       "\t21 & 1968 & Logo \\\\\n",
       "\t22 & 1969 & B \\\\\n",
       "\t23 & 1970 & Pascal \\\\\n",
       "\t24 & 1970 & Forth \\\\\n",
       "\t25 & 1972 & C \\\\\n",
       "\t26 & 1972 & Smalltalk \\\\\n",
       "\t27 & 1972 & Prolog \\\\\n",
       "\t28 & 1973 & ML \\\\\n",
       "\t29 & 1975 & Scheme \\\\\n",
       "\t30 & 1978 & SQL  \\\\\n",
       "\t$\\dots$ & $\\dots$ & $\\dots$ \\\\\n",
       "\\end{tabular}\n"
      ],
      "text/plain": [
       "73×2 DataFrame\n",
       "│ Row │ year  │ language                   │\n",
       "│     │ \u001b[90mInt64\u001b[39m │ \u001b[90mString\u001b[39m                     │\n",
       "├─────┼───────┼────────────────────────────┤\n",
       "│ 1   │ 1951  │ Regional Assembly Language │\n",
       "│ 2   │ 1952  │ Autocode                   │\n",
       "│ 3   │ 1954  │ IPL                        │\n",
       "│ 4   │ 1955  │ FLOW-MATIC                 │\n",
       "│ 5   │ 1957  │ FORTRAN                    │\n",
       "│ 6   │ 1957  │ COMTRAN                    │\n",
       "│ 7   │ 1958  │ LISP                       │\n",
       "│ 8   │ 1958  │ ALGOL 58                   │\n",
       "│ 9   │ 1959  │ FACT                       │\n",
       "│ 10  │ 1959  │ COBOL                      │\n",
       "⋮\n",
       "│ 63  │ 2005  │ F#                         │\n",
       "│ 64  │ 2006  │ PowerShell                 │\n",
       "│ 65  │ 2007  │ Clojure                    │\n",
       "│ 66  │ 2009  │ Go                         │\n",
       "│ 67  │ 2010  │ Rust                       │\n",
       "│ 68  │ 2011  │ Dart                       │\n",
       "│ 69  │ 2011  │ Kotlin                     │\n",
       "│ 70  │ 2011  │ Red                        │\n",
       "│ 71  │ 2011  │ Elixir                     │\n",
       "│ 72  │ 2012  │ Julia                      │\n",
       "│ 73  │ 2014  │ Swift                      │"
      ]
     },
     "execution_count": 32,
     "metadata": {},
     "output_type": "execute_result"
    }
   ],
   "source": [
    "DataFrame(df)"
   ]
  },
  {
   "cell_type": "code",
   "execution_count": 33,
   "metadata": {},
   "outputs": [
    {
     "data": {
      "text/html": [
       "<table class=\"data-frame\"><thead><tr><th></th><th>item</th><th>price</th></tr><tr><th></th><th>String</th><th>Int64</th></tr></thead><tbody><p>4 rows × 2 columns</p><tr><th>1</th><td>apple</td><td>1</td></tr><tr><th>2</th><td>Banana</td><td>2</td></tr><tr><th>3</th><td>Papaya</td><td>2</td></tr><tr><th>4</th><td>Guava</td><td>3</td></tr></tbody></table>"
      ],
      "text/latex": [
       "\\begin{tabular}{r|cc}\n",
       "\t& item & price\\\\\n",
       "\t\\hline\n",
       "\t& String & Int64\\\\\n",
       "\t\\hline\n",
       "\t1 & apple & 1 \\\\\n",
       "\t2 & Banana & 2 \\\\\n",
       "\t3 & Papaya & 2 \\\\\n",
       "\t4 & Guava & 3 \\\\\n",
       "\\end{tabular}\n"
      ],
      "text/plain": [
       "4×2 DataFrame\n",
       "│ Row │ item   │ price │\n",
       "│     │ \u001b[90mString\u001b[39m │ \u001b[90mInt64\u001b[39m │\n",
       "├─────┼────────┼───────┤\n",
       "│ 1   │ apple  │ 1     │\n",
       "│ 2   │ Banana │ 2     │\n",
       "│ 3   │ Papaya │ 2     │\n",
       "│ 4   │ Guava  │ 3     │"
      ]
     },
     "execution_count": 33,
     "metadata": {},
     "output_type": "execute_result"
    }
   ],
   "source": [
    "fruits = [\"apple\", \"Banana\", \"Papaya\", \"Guava\"]\n",
    "price = [1, 2, 2, 3]\n",
    "calories = [120, 122, 73, 26]\n",
    "df_cal = DataFrame(item = fruits, calories = calories)\n",
    "df_price = DataFrame(item = fruits, price = price)"
   ]
  },
  {
   "cell_type": "code",
   "execution_count": 35,
   "metadata": {},
   "outputs": [
    {
     "data": {
      "text/html": [
       "<table class=\"data-frame\"><thead><tr><th></th><th>item</th><th>calories</th><th>price</th></tr><tr><th></th><th>String</th><th>Int64</th><th>Int64</th></tr></thead><tbody><p>4 rows × 3 columns</p><tr><th>1</th><td>apple</td><td>120</td><td>1</td></tr><tr><th>2</th><td>Banana</td><td>122</td><td>2</td></tr><tr><th>3</th><td>Papaya</td><td>73</td><td>2</td></tr><tr><th>4</th><td>Guava</td><td>26</td><td>3</td></tr></tbody></table>"
      ],
      "text/latex": [
       "\\begin{tabular}{r|ccc}\n",
       "\t& item & calories & price\\\\\n",
       "\t\\hline\n",
       "\t& String & Int64 & Int64\\\\\n",
       "\t\\hline\n",
       "\t1 & apple & 120 & 1 \\\\\n",
       "\t2 & Banana & 122 & 2 \\\\\n",
       "\t3 & Papaya & 73 & 2 \\\\\n",
       "\t4 & Guava & 26 & 3 \\\\\n",
       "\\end{tabular}\n"
      ],
      "text/plain": [
       "4×3 DataFrame\n",
       "│ Row │ item   │ calories │ price │\n",
       "│     │ \u001b[90mString\u001b[39m │ \u001b[90mInt64\u001b[39m    │ \u001b[90mInt64\u001b[39m │\n",
       "├─────┼────────┼──────────┼───────┤\n",
       "│ 1   │ apple  │ 120      │ 1     │\n",
       "│ 2   │ Banana │ 122      │ 2     │\n",
       "│ 3   │ Papaya │ 73       │ 2     │\n",
       "│ 4   │ Guava  │ 26       │ 3     │"
      ]
     },
     "execution_count": 35,
     "metadata": {},
     "output_type": "execute_result"
    }
   ],
   "source": [
    "Dataframe = join(df_cal, df_price, on=:item)"
   ]
  },
  {
   "cell_type": "code",
   "execution_count": 36,
   "metadata": {},
   "outputs": [
    {
     "data": {
      "text/html": [
       "<table class=\"data-frame\"><thead><tr><th></th><th>item</th><th>calories</th><th>price</th></tr><tr><th></th><th>String</th><th>Int64</th><th>Int64</th></tr></thead><tbody><p>4 rows × 3 columns</p><tr><th>1</th><td>apple</td><td>120</td><td>1</td></tr><tr><th>2</th><td>Banana</td><td>122</td><td>2</td></tr><tr><th>3</th><td>Papaya</td><td>73</td><td>2</td></tr><tr><th>4</th><td>Guava</td><td>26</td><td>3</td></tr></tbody></table>"
      ],
      "text/latex": [
       "\\begin{tabular}{r|ccc}\n",
       "\t& item & calories & price\\\\\n",
       "\t\\hline\n",
       "\t& String & Int64 & Int64\\\\\n",
       "\t\\hline\n",
       "\t1 & apple & 120 & 1 \\\\\n",
       "\t2 & Banana & 122 & 2 \\\\\n",
       "\t3 & Papaya & 73 & 2 \\\\\n",
       "\t4 & Guava & 26 & 3 \\\\\n",
       "\\end{tabular}\n"
      ],
      "text/plain": [
       "4×3 DataFrame\n",
       "│ Row │ item   │ calories │ price │\n",
       "│     │ \u001b[90mString\u001b[39m │ \u001b[90mInt64\u001b[39m    │ \u001b[90mInt64\u001b[39m │\n",
       "├─────┼────────┼──────────┼───────┤\n",
       "│ 1   │ apple  │ 120      │ 1     │\n",
       "│ 2   │ Banana │ 122      │ 2     │\n",
       "│ 3   │ Papaya │ 73       │ 2     │\n",
       "│ 4   │ Guava  │ 26       │ 3     │"
      ]
     },
     "execution_count": 36,
     "metadata": {},
     "output_type": "execute_result"
    }
   ],
   "source": [
    "Dataframe"
   ]
  },
  {
   "cell_type": "code",
   "execution_count": 12,
   "metadata": {},
   "outputs": [
    {
     "data": {
      "text/plain": [
       "Any[]"
      ]
     },
     "execution_count": 12,
     "metadata": {},
     "output_type": "execute_result"
    }
   ],
   "source": [
    "function year_created(P, language::String)\n",
    "    loc = findfirst(P[:, 2] .== language)\n",
    "    return P[loc: 1]\n",
    "end\n",
    "year_created(P, \"Julia\")"
   ]
  },
  {
   "cell_type": "code",
   "execution_count": 13,
   "metadata": {},
   "outputs": [
    {
     "data": {
      "text/plain": [
       "4"
      ]
     },
     "execution_count": 13,
     "metadata": {},
     "output_type": "execute_result"
    }
   ],
   "source": [
    "function how_many_in_year(P, year::Int64)\n",
    "    year_count = length(findall(P[:, 1] .== year))\n",
    "    return year_count\n",
    "end\n",
    "how_many_in_year(P, 2011)"
   ]
  },
  {
   "cell_type": "code",
   "execution_count": 15,
   "metadata": {},
   "outputs": [
    {
     "ename": "LoadError",
     "evalue": "UndefVarError: c not defined",
     "output_type": "error",
     "traceback": [
      "UndefVarError: c not defined",
      "",
      "Stacktrace:",
      " [1] top-level scope at In[15]:1",
      " [2] include_string(::Function, ::Module, ::String, ::String) at .\\loading.jl:1091",
      " [3] execute_code(::String, ::String) at C:\\Users\\SHIVAM CHOUDHARY\\.julia\\packages\\IJulia\\rWZ9e\\src\\execute_request.jl:27",
      " [4] execute_request(::ZMQ.Socket, ::IJulia.Msg) at C:\\Users\\SHIVAM CHOUDHARY\\.julia\\packages\\IJulia\\rWZ9e\\src\\execute_request.jl:86",
      " [5] #invokelatest#1 at .\\essentials.jl:710 [inlined]",
      " [6] invokelatest at .\\essentials.jl:709 [inlined]",
      " [7] eventloop(::ZMQ.Socket) at C:\\Users\\SHIVAM CHOUDHARY\\.julia\\packages\\IJulia\\rWZ9e\\src\\eventloop.jl:8",
      " [8] (::IJulia.var\"#15#18\")() at .\\task.jl:356"
     ]
    }
   ],
   "source": [
    "P_df = c"
   ]
  },
  {
   "cell_type": "code",
   "execution_count": 16,
   "metadata": {},
   "outputs": [
    {
     "data": {
      "text/plain": [
       "Dict{String,Any} with 3 entries:\n",
       "  \"B\" => 2\n",
       "  \"A\" => 1\n",
       "  \"c\" => [1, 2]"
      ]
     },
     "execution_count": 16,
     "metadata": {},
     "output_type": "execute_result"
    }
   ],
   "source": [
    "Dict([(\"A\", 1), (\"B\", 2), (\"c\", [1, 2])])"
   ]
  },
  {
   "cell_type": "code",
   "execution_count": 17,
   "metadata": {},
   "outputs": [
    {
     "data": {
      "text/plain": [
       "Dict{Any,Any}()"
      ]
     },
     "execution_count": 17,
     "metadata": {},
     "output_type": "execute_result"
    }
   ],
   "source": [
    "P_Dict = Dict()"
   ]
  },
  {
   "cell_type": "code",
   "execution_count": 18,
   "metadata": {},
   "outputs": [
    {
     "data": {
      "text/plain": [
       "\"Number\""
      ]
     },
     "execution_count": 18,
     "metadata": {},
     "output_type": "execute_result"
    }
   ],
   "source": [
    "P_Dict[1] = \"Number\""
   ]
  },
  {
   "cell_type": "code",
   "execution_count": 19,
   "metadata": {},
   "outputs": [
    {
     "data": {
      "text/plain": [
       "Dict{Any,Any} with 1 entry:\n",
       "  1 => \"Number\""
      ]
     },
     "execution_count": 19,
     "metadata": {},
     "output_type": "execute_result"
    }
   ],
   "source": [
    "P_Dict"
   ]
  },
  {
   "cell_type": "code",
   "execution_count": 24,
   "metadata": {},
   "outputs": [
    {
     "data": {
      "text/plain": [
       "Dict{String,Int64} with 3 entries:\n",
       "  \"NAme_3\" => 3\n",
       "  \"Name_2\" => 2\n",
       "  \"Name\"   => 1"
      ]
     },
     "execution_count": 24,
     "metadata": {},
     "output_type": "execute_result"
    }
   ],
   "source": [
    "P_Dict_1 = Dict(\"Name\"=> 1, \"Name_2\" => 2, \"NAme_3\" => 3)"
   ]
  },
  {
   "cell_type": "code",
   "execution_count": 25,
   "metadata": {},
   "outputs": [
    {
     "data": {
      "text/html": [
       "<table class=\"data-frame\"><thead><tr><th></th><th>year</th><th>language</th></tr><tr><th></th><th>Any</th><th>Any</th></tr></thead><tbody><p>73 rows × 2 columns</p><tr><th>1</th><td><em>missing</em></td><td>Regional Assembly Language</td></tr><tr><th>2</th><td>1952</td><td>Autocode</td></tr><tr><th>3</th><td>1954</td><td>IPL</td></tr><tr><th>4</th><td>1955</td><td>FLOW-MATIC</td></tr><tr><th>5</th><td>1957</td><td>FORTRAN</td></tr><tr><th>6</th><td>1957</td><td>COMTRAN</td></tr><tr><th>7</th><td>1958</td><td>LISP</td></tr><tr><th>8</th><td>1958</td><td>ALGOL 58</td></tr><tr><th>9</th><td>1959</td><td>FACT</td></tr><tr><th>10</th><td>1959</td><td>COBOL</td></tr><tr><th>11</th><td>1959</td><td>RPG</td></tr><tr><th>12</th><td>1962</td><td>APL</td></tr><tr><th>13</th><td>1962</td><td>Simula</td></tr><tr><th>14</th><td>1962</td><td>SNOBOL</td></tr><tr><th>15</th><td>1963</td><td>CPL</td></tr><tr><th>16</th><td>1964</td><td>Speakeasy</td></tr><tr><th>17</th><td>1964</td><td>BASIC</td></tr><tr><th>18</th><td>1964</td><td>PL/I</td></tr><tr><th>19</th><td>1966</td><td>JOSS</td></tr><tr><th>20</th><td>1967</td><td>BCPL</td></tr><tr><th>21</th><td>1968</td><td>Logo</td></tr><tr><th>22</th><td>1969</td><td>B</td></tr><tr><th>23</th><td>1970</td><td>Pascal</td></tr><tr><th>24</th><td>1970</td><td>Forth</td></tr><tr><th>25</th><td>1972</td><td>C</td></tr><tr><th>26</th><td>1972</td><td>Smalltalk</td></tr><tr><th>27</th><td>1972</td><td>Prolog</td></tr><tr><th>28</th><td>1973</td><td>ML</td></tr><tr><th>29</th><td>1975</td><td>Scheme</td></tr><tr><th>30</th><td>1978</td><td>SQL </td></tr><tr><th>&vellip;</th><td>&vellip;</td><td>&vellip;</td></tr></tbody></table>"
      ],
      "text/latex": [
       "\\begin{tabular}{r|cc}\n",
       "\t& year & language\\\\\n",
       "\t\\hline\n",
       "\t& Any & Any\\\\\n",
       "\t\\hline\n",
       "\t1 & \\emph{missing} & Regional Assembly Language \\\\\n",
       "\t2 & 1952 & Autocode \\\\\n",
       "\t3 & 1954 & IPL \\\\\n",
       "\t4 & 1955 & FLOW-MATIC \\\\\n",
       "\t5 & 1957 & FORTRAN \\\\\n",
       "\t6 & 1957 & COMTRAN \\\\\n",
       "\t7 & 1958 & LISP \\\\\n",
       "\t8 & 1958 & ALGOL 58 \\\\\n",
       "\t9 & 1959 & FACT \\\\\n",
       "\t10 & 1959 & COBOL \\\\\n",
       "\t11 & 1959 & RPG \\\\\n",
       "\t12 & 1962 & APL \\\\\n",
       "\t13 & 1962 & Simula \\\\\n",
       "\t14 & 1962 & SNOBOL \\\\\n",
       "\t15 & 1963 & CPL \\\\\n",
       "\t16 & 1964 & Speakeasy \\\\\n",
       "\t17 & 1964 & BASIC \\\\\n",
       "\t18 & 1964 & PL/I \\\\\n",
       "\t19 & 1966 & JOSS \\\\\n",
       "\t20 & 1967 & BCPL \\\\\n",
       "\t21 & 1968 & Logo \\\\\n",
       "\t22 & 1969 & B \\\\\n",
       "\t23 & 1970 & Pascal \\\\\n",
       "\t24 & 1970 & Forth \\\\\n",
       "\t25 & 1972 & C \\\\\n",
       "\t26 & 1972 & Smalltalk \\\\\n",
       "\t27 & 1972 & Prolog \\\\\n",
       "\t28 & 1973 & ML \\\\\n",
       "\t29 & 1975 & Scheme \\\\\n",
       "\t30 & 1978 & SQL  \\\\\n",
       "\t$\\dots$ & $\\dots$ & $\\dots$ \\\\\n",
       "\\end{tabular}\n"
      ],
      "text/plain": [
       "73×2 DataFrame\n",
       "│ Row │ year    │ language                   │\n",
       "│     │ \u001b[90mAny\u001b[39m     │ \u001b[90mAny\u001b[39m                        │\n",
       "├─────┼─────────┼────────────────────────────┤\n",
       "│ 1   │ \u001b[90mmissing\u001b[39m │ Regional Assembly Language │\n",
       "│ 2   │ 1952    │ Autocode                   │\n",
       "│ 3   │ 1954    │ IPL                        │\n",
       "│ 4   │ 1955    │ FLOW-MATIC                 │\n",
       "│ 5   │ 1957    │ FORTRAN                    │\n",
       "│ 6   │ 1957    │ COMTRAN                    │\n",
       "│ 7   │ 1958    │ LISP                       │\n",
       "│ 8   │ 1958    │ ALGOL 58                   │\n",
       "│ 9   │ 1959    │ FACT                       │\n",
       "│ 10  │ 1959    │ COBOL                      │\n",
       "⋮\n",
       "│ 63  │ 2005    │ F#                         │\n",
       "│ 64  │ 2006    │ PowerShell                 │\n",
       "│ 65  │ 2007    │ Clojure                    │\n",
       "│ 66  │ 2009    │ Go                         │\n",
       "│ 67  │ 2010    │ Rust                       │\n",
       "│ 68  │ 2011    │ Dart                       │\n",
       "│ 69  │ 2011    │ Kotlin                     │\n",
       "│ 70  │ 2011    │ Red                        │\n",
       "│ 71  │ 2011    │ Elixir                     │\n",
       "│ 72  │ 2012    │ Julia                      │\n",
       "│ 73  │ 2014    │ Swift                      │"
      ]
     },
     "execution_count": 25,
     "metadata": {},
     "output_type": "execute_result"
    }
   ],
   "source": [
    "P[1, 1] = missing\n",
    "p_df = DataFrame(year=P[:, 1], language=P[:, 2])"
   ]
  },
  {
   "cell_type": "code",
   "execution_count": 26,
   "metadata": {},
   "outputs": [
    {
     "data": {
      "text/html": [
       "<table class=\"data-frame\"><thead><tr><th></th><th>year</th><th>language</th></tr><tr><th></th><th>Any</th><th>Any</th></tr></thead><tbody><p>72 rows × 2 columns</p><tr><th>1</th><td>1952</td><td>Autocode</td></tr><tr><th>2</th><td>1954</td><td>IPL</td></tr><tr><th>3</th><td>1955</td><td>FLOW-MATIC</td></tr><tr><th>4</th><td>1957</td><td>FORTRAN</td></tr><tr><th>5</th><td>1957</td><td>COMTRAN</td></tr><tr><th>6</th><td>1958</td><td>LISP</td></tr><tr><th>7</th><td>1958</td><td>ALGOL 58</td></tr><tr><th>8</th><td>1959</td><td>FACT</td></tr><tr><th>9</th><td>1959</td><td>COBOL</td></tr><tr><th>10</th><td>1959</td><td>RPG</td></tr><tr><th>11</th><td>1962</td><td>APL</td></tr><tr><th>12</th><td>1962</td><td>Simula</td></tr><tr><th>13</th><td>1962</td><td>SNOBOL</td></tr><tr><th>14</th><td>1963</td><td>CPL</td></tr><tr><th>15</th><td>1964</td><td>Speakeasy</td></tr><tr><th>16</th><td>1964</td><td>BASIC</td></tr><tr><th>17</th><td>1964</td><td>PL/I</td></tr><tr><th>18</th><td>1966</td><td>JOSS</td></tr><tr><th>19</th><td>1967</td><td>BCPL</td></tr><tr><th>20</th><td>1968</td><td>Logo</td></tr><tr><th>21</th><td>1969</td><td>B</td></tr><tr><th>22</th><td>1970</td><td>Pascal</td></tr><tr><th>23</th><td>1970</td><td>Forth</td></tr><tr><th>24</th><td>1972</td><td>C</td></tr><tr><th>25</th><td>1972</td><td>Smalltalk</td></tr><tr><th>26</th><td>1972</td><td>Prolog</td></tr><tr><th>27</th><td>1973</td><td>ML</td></tr><tr><th>28</th><td>1975</td><td>Scheme</td></tr><tr><th>29</th><td>1978</td><td>SQL </td></tr><tr><th>30</th><td>1980</td><td>C++ </td></tr><tr><th>&vellip;</th><td>&vellip;</td><td>&vellip;</td></tr></tbody></table>"
      ],
      "text/latex": [
       "\\begin{tabular}{r|cc}\n",
       "\t& year & language\\\\\n",
       "\t\\hline\n",
       "\t& Any & Any\\\\\n",
       "\t\\hline\n",
       "\t1 & 1952 & Autocode \\\\\n",
       "\t2 & 1954 & IPL \\\\\n",
       "\t3 & 1955 & FLOW-MATIC \\\\\n",
       "\t4 & 1957 & FORTRAN \\\\\n",
       "\t5 & 1957 & COMTRAN \\\\\n",
       "\t6 & 1958 & LISP \\\\\n",
       "\t7 & 1958 & ALGOL 58 \\\\\n",
       "\t8 & 1959 & FACT \\\\\n",
       "\t9 & 1959 & COBOL \\\\\n",
       "\t10 & 1959 & RPG \\\\\n",
       "\t11 & 1962 & APL \\\\\n",
       "\t12 & 1962 & Simula \\\\\n",
       "\t13 & 1962 & SNOBOL \\\\\n",
       "\t14 & 1963 & CPL \\\\\n",
       "\t15 & 1964 & Speakeasy \\\\\n",
       "\t16 & 1964 & BASIC \\\\\n",
       "\t17 & 1964 & PL/I \\\\\n",
       "\t18 & 1966 & JOSS \\\\\n",
       "\t19 & 1967 & BCPL \\\\\n",
       "\t20 & 1968 & Logo \\\\\n",
       "\t21 & 1969 & B \\\\\n",
       "\t22 & 1970 & Pascal \\\\\n",
       "\t23 & 1970 & Forth \\\\\n",
       "\t24 & 1972 & C \\\\\n",
       "\t25 & 1972 & Smalltalk \\\\\n",
       "\t26 & 1972 & Prolog \\\\\n",
       "\t27 & 1973 & ML \\\\\n",
       "\t28 & 1975 & Scheme \\\\\n",
       "\t29 & 1978 & SQL  \\\\\n",
       "\t30 & 1980 & C++  \\\\\n",
       "\t$\\dots$ & $\\dots$ & $\\dots$ \\\\\n",
       "\\end{tabular}\n"
      ],
      "text/plain": [
       "72×2 DataFrame\n",
       "│ Row │ year │ language   │\n",
       "│     │ \u001b[90mAny\u001b[39m  │ \u001b[90mAny\u001b[39m        │\n",
       "├─────┼──────┼────────────┤\n",
       "│ 1   │ 1952 │ Autocode   │\n",
       "│ 2   │ 1954 │ IPL        │\n",
       "│ 3   │ 1955 │ FLOW-MATIC │\n",
       "│ 4   │ 1957 │ FORTRAN    │\n",
       "│ 5   │ 1957 │ COMTRAN    │\n",
       "│ 6   │ 1958 │ LISP       │\n",
       "│ 7   │ 1958 │ ALGOL 58   │\n",
       "│ 8   │ 1959 │ FACT       │\n",
       "│ 9   │ 1959 │ COBOL      │\n",
       "│ 10  │ 1959 │ RPG        │\n",
       "⋮\n",
       "│ 62  │ 2005 │ F#         │\n",
       "│ 63  │ 2006 │ PowerShell │\n",
       "│ 64  │ 2007 │ Clojure    │\n",
       "│ 65  │ 2009 │ Go         │\n",
       "│ 66  │ 2010 │ Rust       │\n",
       "│ 67  │ 2011 │ Dart       │\n",
       "│ 68  │ 2011 │ Kotlin     │\n",
       "│ 69  │ 2011 │ Red        │\n",
       "│ 70  │ 2011 │ Elixir     │\n",
       "│ 71  │ 2012 │ Julia      │\n",
       "│ 72  │ 2014 │ Swift      │"
      ]
     },
     "execution_count": 26,
     "metadata": {},
     "output_type": "execute_result"
    }
   ],
   "source": [
    "dropmissing(p_df)"
   ]
  }
 ],
 "metadata": {
  "kernelspec": {
   "display_name": "Julia 1.5.2",
   "language": "julia",
   "name": "julia-1.5"
  },
  "language_info": {
   "file_extension": ".jl",
   "mimetype": "application/julia",
   "name": "julia",
   "version": "1.5.2"
  }
 },
 "nbformat": 4,
 "nbformat_minor": 4
}
