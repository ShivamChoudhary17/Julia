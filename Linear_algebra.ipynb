{
 "cells": [
  {
   "cell_type": "code",
   "execution_count": 4,
   "metadata": {},
   "outputs": [],
   "source": [
    "using LinearAlgebra\n",
    "using SparseArrays"
   ]
  },
  {
   "cell_type": "code",
   "execution_count": 5,
   "metadata": {},
   "outputs": [
    {
     "data": {
      "text/plain": [
       "10×10 Array{Float64,2}:\n",
       " 4.63074  3.30788  3.26839  3.45019  …  4.37127  4.1735   3.31375  4.27921\n",
       " 3.30788  2.902    2.54521  2.53287     3.4985   2.82807  2.62864  3.25673\n",
       " 3.26839  2.54521  3.08942  2.37644     2.9621   3.3284   2.58831  2.94285\n",
       " 3.45019  2.53287  2.37644  3.74538     3.49523  2.86599  3.00118  3.21728\n",
       " 3.39166  2.45473  2.41029  2.62692     3.12904  3.09034  2.77789  2.93251\n",
       " 3.92316  2.78256  2.74464  2.07053  …  3.57737  4.0075   2.54804  3.62425\n",
       " 4.37127  3.4985   2.9621   3.49523     4.82546  3.50945  3.12348  3.88154\n",
       " 4.1735   2.82807  3.3284   2.86599     3.50945  4.7457   3.24984  3.83062\n",
       " 3.31375  2.62864  2.58831  3.00118     3.12348  3.24984  3.40071  3.13981\n",
       " 4.27921  3.25673  2.94285  3.21728     3.88154  3.83062  3.13981  4.64377"
      ]
     },
     "execution_count": 5,
     "metadata": {},
     "output_type": "execute_result"
    }
   ],
   "source": [
    "A = rand(10, 10)\n",
    "Atranspose = A'\n",
    "A = A * Atranspose"
   ]
  },
  {
   "cell_type": "code",
   "execution_count": 6,
   "metadata": {},
   "outputs": [
    {
     "data": {
      "text/plain": [
       "true"
      ]
     },
     "execution_count": 6,
     "metadata": {},
     "output_type": "execute_result"
    }
   ],
   "source": [
    "isposdef(A)"
   ]
  },
  {
   "cell_type": "code",
   "execution_count": 7,
   "metadata": {},
   "outputs": [
    {
     "name": "stdout",
     "output_type": "stream",
     "text": [
      "A[11] == A[1, 2] = true\n"
     ]
    },
    {
     "data": {
      "text/plain": [
       "true"
      ]
     },
     "execution_count": 7,
     "metadata": {},
     "output_type": "execute_result"
    }
   ],
   "source": [
    "@show A[11] == A[1, 2] "
   ]
  },
  {
   "cell_type": "code",
   "execution_count": 12,
   "metadata": {},
   "outputs": [
    {
     "data": {
      "text/plain": [
       "800"
      ]
     },
     "execution_count": 12,
     "metadata": {},
     "output_type": "execute_result"
    }
   ],
   "source": [
    "sizeof(Atranspose.parent)"
   ]
  },
  {
   "cell_type": "code",
   "execution_count": 13,
   "metadata": {},
   "outputs": [
    {
     "data": {
      "text/plain": [
       "8"
      ]
     },
     "execution_count": 13,
     "metadata": {},
     "output_type": "execute_result"
    }
   ],
   "source": [
    "sizeof(Atranspose)"
   ]
  }
 ],
 "metadata": {
  "kernelspec": {
   "display_name": "Julia 1.5.2",
   "language": "julia",
   "name": "julia-1.5"
  },
  "language_info": {
   "file_extension": ".jl",
   "mimetype": "application/julia",
   "name": "julia",
   "version": "1.5.2"
  }
 },
 "nbformat": 4,
 "nbformat_minor": 4
}
